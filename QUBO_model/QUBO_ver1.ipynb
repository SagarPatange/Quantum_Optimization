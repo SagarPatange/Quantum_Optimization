{
 "cells": [
  {
   "cell_type": "markdown",
   "metadata": {},
   "source": [
    "# **QUBO Model: Optimized Warehouse-to-Customer Assignment**\n",
    "\n",
    "## **1. Overview**\n",
    "This Quadratic Unconstrained Binary Optimization (QUBO) model is designed to optimize **warehouse-to-customer assignments** by minimizing transportation costs while ensuring that each customer is assigned to exactly one warehouse. The model incorporates **biasing** to prefer certain warehouse assignments and visualizes the optimized solution in a **distance-scaled network graph**.\n",
    "\n",
    "---\n",
    "\n",
    "## **2. Objective Function: Minimize Transportation Cost**\n",
    "The primary objective of the model is to **minimize the total transport cost** based on the **distances between warehouses and customers**. This is achieved using the following cost function:\n",
    "\n",
    "$$\n",
    "\\text{Cost} = \\sum_{w=0}^{W-1} \\sum_{c=0}^{C-1} d_{w,c} \\cdot y_{w,c}\n",
    "$$\n",
    "\n",
    "Where:\n",
    "- $ W $ = total number of warehouses  \n",
    "- $ C $ = total number of customers  \n",
    "- $ d_{w,c} $ = distance between warehouse $ w $ and customer $ c $  \n",
    "- $ y_{w,c} $ is a **binary variable** that equals **1** if warehouse $ w $ serves customer $ c $, otherwise it is **0**.\n",
    "\n",
    "The **solver aims to minimize this function**, which means it finds assignments that reduce the overall transportation cost.\n",
    "\n",
    "---\n",
    "\n",
    "## **3. Constraints: Each Customer Must Be Assigned to Exactly One Warehouse**\n",
    "A key requirement in the model is that **each customer must be assigned to exactly one warehouse**. This is formulated as:\n",
    "\n",
    "$$\n",
    "\\sum_{w=0}^{W-1} y_{w,c} = 1, \\quad \\forall c \\in C\n",
    "$$\n",
    "\n",
    "This means that for each customer $ c $, the sum of all warehouse assignments must equal **1** (the customer cannot be left unassigned or assigned to multiple warehouses).  \n",
    "\n",
    "To enforce this constraint in the QUBO model, we use a **quadratic penalty function**:\n",
    "\n",
    "$$\n",
    "P \\cdot \\left(\\sum_{w=0}^{W-1} y_{w,c} - 1\\right)^2\n",
    "$$\n",
    "\n",
    "Expanding this gives:\n",
    "\n",
    "$$\n",
    "P \\sum_{w=0}^{W-1} y_{w,c}^2 - 2P \\sum_{w=0}^{W-1} y_{w,c} + P\n",
    "$$\n",
    "\n",
    "Which is implemented in the model using:\n",
    "- **Linear terms**: $ -2P \\cdot y_{w,c} $  \n",
    "- **Quadratic terms**: $ +2P \\cdot y_{w1,c} \\cdot y_{w2,c} $ for all warehouse pairs $ w1 \\neq w2 $  \n",
    "- **Offset term**: $ +P $, added once per customer  \n",
    "\n",
    "This ensures that if a customer is assigned **more than one warehouse**, the penalty increases significantly, discouraging invalid assignments.\n",
    "\n",
    "---\n",
    "\n",
    "## **4. Bias Term: Preferential Warehouse Assignment**\n",
    "To **bias** the assignment process towards a particular warehouse (e.g., `Warehouse #0`), a **negative linear term** is added for all $ y_{0,c} $ variables:\n",
    "\n",
    "$$\n",
    "B \\sum_{c=0}^{C-1} y_{0,c}\n",
    "$$\n",
    "\n",
    "Where $ B $ is a negative bias value (e.g., $ B = -5 $). This **reduces the cost of assigning customers to Warehouse #0**, making it more likely to be selected when the solver optimizes the assignments.\n",
    "\n",
    "---\n",
    "\n",
    "## **5. Solving the QUBO Model**\n",
    "The QUBO model is solved using **Simulated Annealing**, a probabilistic optimization algorithm designed for combinatorial problems. It iteratively refines candidate solutions to find a configuration that minimizes the total cost while satisfying constraints.\n",
    "\n",
    "The solver produces a **binary assignment matrix**, where each $ y_{w,c} = 1 $ indicates an active warehouse-to-customer assignment.\n",
    "\n",
    "---\n",
    "\n",
    "## **6. Visualization: Scaled Warehouse-Customer Network**\n",
    "The final assignment solution is visualized using **NetworkX**. The visualization includes:  \n",
    "- **Red squares** (`W0, W1, ...`) representing **warehouses**  \n",
    "- **Green circles** (`C0, C1, ...`) representing **customers**  \n",
    "- **Edges (links)** connecting warehouses to customers  \n",
    "  - **Blue edges**: Selected warehouse-customer assignments in the final optimized solution  \n",
    "  - **Gray edges**: Possible assignments that were **not selected**  \n",
    "\n",
    "To ensure that **distances are reflected accurately**, the visualization uses a **force-directed layout (`kamada_kawai_layout`)**, which arranges nodes so that:\n",
    "- **Shorter distances** → **Closer nodes**  \n",
    "- **Longer distances** → **Further apart nodes**  \n",
    "\n",
    "This provides an **intuitive spatial representation** of warehouse-customer relationships based on the **actual numerical distances**.\n",
    "\n",
    "---\n",
    "\n",
    "## **7. Summary of Features**\n",
    "✔ **Minimizes total transport costs** using a distance-based objective function  \n",
    "✔ **Ensures each customer gets exactly one warehouse** using a penalty-based constraint  \n",
    "✔ **Allows warehouse preference** through a **bias term**  \n",
    "✔ **Solves using Simulated Annealing** to find the best assignments  \n",
    "✔ **Visualizes the optimal solution** with a distance-scaled network graph  \n",
    "\n",
    "---\n",
    "\n",
    "## **8. Possible Extensions**\n",
    "🔹 **Add Warehouse Capacity Constraints**: Prevent exceeding storage limits at each warehouse  \n",
    "🔹 **Multi-Objective Optimization**: Introduce additional cost factors (e.g., priority customers)  \n",
    "🔹 **Quantum Optimization**: Run the model on a quantum annealer (e.g., D-Wave) for faster performance  \n",
    "\n",
    "This QUBO model provides a **strong foundation** for solving warehouse allocation problems and can be extended for larger, real-world supply chain applications. 🚀\n"
   ]
  },
  {
   "cell_type": "code",
   "execution_count": null,
   "metadata": {},
   "outputs": [],
   "source": [
    "import numpy as np\n",
    "import dimod\n",
    "from dimod import BinaryQuadraticModel, SimulatedAnnealingSampler\n",
    "import networkx as nx\n",
    "import matplotlib.pyplot as plt"
   ]
  },
  {
   "cell_type": "markdown",
   "metadata": {},
   "source": [
    "## 1. Generate Synthetic Data"
   ]
  },
  {
   "cell_type": "code",
   "execution_count": 8,
   "metadata": {},
   "outputs": [
    {
     "name": "stdout",
     "output_type": "stream",
     "text": [
      "Distance Matrix:\n",
      " [[48 38 24 17]\n",
      " [30 48 28 32]\n",
      " [20 20 33 45]]\n"
     ]
    }
   ],
   "source": [
    "np.random.seed(42)\n",
    "num_warehouses = 3\n",
    "num_customers = 4\n",
    "\n",
    "# Random distances (costs)\n",
    "distances = np.random.randint(10, 50, size=(num_warehouses, num_customers))\n",
    "print('Distance Matrix:\\n', distances)"
   ]
  },
  {
   "cell_type": "markdown",
   "metadata": {},
   "source": [
    "## 2. Define Binary Variables: y[w,c] = 1 if warehouse w serves customer c"
   ]
  },
  {
   "cell_type": "code",
   "execution_count": 3,
   "metadata": {},
   "outputs": [],
   "source": [
    "y = {(w,c): f'y_{w}_{c}' for w in range(num_warehouses) for c in range(num_customers)}"
   ]
  },
  {
   "cell_type": "markdown",
   "metadata": {},
   "source": [
    "## 3. QUBO Model: Minimize Transport Cost"
   ]
  },
  {
   "cell_type": "code",
   "execution_count": 4,
   "metadata": {},
   "outputs": [],
   "source": [
    "qubo = BinaryQuadraticModel.empty(vartype=dimod.BINARY)\n",
    "for (w, c), var_name in y.items():\n",
    "    qubo.add_linear(var_name, distances[w, c])"
   ]
  },
  {
   "cell_type": "markdown",
   "metadata": {},
   "source": [
    "## 4. Add Bias (Favor Warehouse #0)\n"
   ]
  },
  {
   "cell_type": "code",
   "execution_count": 5,
   "metadata": {},
   "outputs": [],
   "source": [
    "bias_for_warehouse_0 = -5\n",
    "for c in range(num_customers):\n",
    "    qubo.add_linear(y[(0, c)], bias_for_warehouse_0)\n"
   ]
  },
  {
   "cell_type": "markdown",
   "metadata": {},
   "source": [
    "## 5. Constraint: Each Customer Assigned Exactly Once"
   ]
  },
  {
   "cell_type": "code",
   "execution_count": 6,
   "metadata": {},
   "outputs": [],
   "source": [
    "penalty = 50\n",
    "for c in range(num_customers):\n",
    "    for w in range(num_warehouses):\n",
    "        qubo.add_linear(y[(w, c)], -2*penalty)\n",
    "    for w1 in range(num_warehouses):\n",
    "        for w2 in range(w1+1, num_warehouses):\n",
    "            qubo.add_quadratic(y[(w1, c)], y[(w2, c)], 2*penalty)\n",
    "    qubo.offset += penalty"
   ]
  },
  {
   "cell_type": "markdown",
   "metadata": {},
   "source": [
    "## 6. Solve the QUBO"
   ]
  },
  {
   "cell_type": "code",
   "execution_count": 7,
   "metadata": {},
   "outputs": [
    {
     "name": "stdout",
     "output_type": "stream",
     "text": [
      "\n",
      "Best Sample: {'y_0_0': np.int8(0), 'y_0_1': np.int8(0), 'y_0_2': np.int8(1), 'y_0_3': np.int8(1), 'y_1_0': np.int8(0), 'y_1_1': np.int8(0), 'y_1_2': np.int8(0), 'y_1_3': np.int8(0), 'y_2_0': np.int8(1), 'y_2_1': np.int8(1), 'y_2_2': np.int8(0), 'y_2_3': np.int8(0)}\n",
      "Best Energy: -129.0\n"
     ]
    }
   ],
   "source": [
    "sampler = SimulatedAnnealingSampler()\n",
    "solution = sampler.sample(qubo, num_reads=1000)\n",
    "best_sample = solution.first.sample\n",
    "best_energy = solution.first.energy\n",
    "\n",
    "print('\\nBest Sample:', best_sample)\n",
    "print('Best Energy:', best_energy)"
   ]
  },
  {
   "cell_type": "markdown",
   "metadata": {},
   "source": [
    "## 7. Interpret Results\n"
   ]
  },
  {
   "cell_type": "code",
   "execution_count": 9,
   "metadata": {},
   "outputs": [
    {
     "name": "stdout",
     "output_type": "stream",
     "text": [
      "Selected Warehouse-to-Customer Links: [(0, 2), (0, 3), (2, 0), (2, 1)]\n"
     ]
    }
   ],
   "source": [
    "selected_links = [(w, c) for (w, c), var_name in y.items() if best_sample[var_name] == 1]\n",
    "print('Selected Warehouse-to-Customer Links:', selected_links)"
   ]
  },
  {
   "cell_type": "markdown",
   "metadata": {},
   "source": [
    "## 8. Improved Visualization with Scaled Distances\n"
   ]
  },
  {
   "cell_type": "code",
   "execution_count": 10,
   "metadata": {},
   "outputs": [
    {
     "data": {
      "image/png": "[encoded data removed]",
      "text/plain": [
       "<Figure size 640x480 with 1 Axes>"
      ]
     },
     "metadata": {},
     "output_type": "display_data"
    }
   ],
   "source": [
    "def visualize_with_scaled_distances(distances, selected_links):\n",
    "    G = nx.Graph()\n",
    "\n",
    "    # Add warehouse + customer nodes\n",
    "    for w in range(num_warehouses):\n",
    "        G.add_node(f'W{w}', bipartite=0)\n",
    "    for c in range(num_customers):\n",
    "        G.add_node(f'C{c}', bipartite=1)\n",
    "\n",
    "    # Add edges with inverse distance as weight\n",
    "    edge_weights = {}\n",
    "    for w in range(num_warehouses):\n",
    "        for c in range(num_customers):\n",
    "            weight = 1 / distances[w, c]  # Shorter distance -> stronger connection\n",
    "            G.add_edge(f'W{w}', f'C{c}', weight=weight, distance=distances[w, c])\n",
    "            edge_weights[(f'W{w}', f'C{c}')] = weight\n",
    "\n",
    "    # Use Kamada-Kawai layout to properly scale distances\n",
    "    pos = nx.kamada_kawai_layout(G, weight='weight')\n",
    "\n",
    "    # Draw all edges in light gray\n",
    "    nx.draw_networkx_edges(G, pos, alpha=0.2)\n",
    "\n",
    "    # Color-code the selected edges in bold blue\n",
    "    all_edges = list(G.edges())\n",
    "    edge_colors = []\n",
    "    for (n1, n2) in all_edges:\n",
    "        if n1.startswith('W') and n2.startswith('C'):\n",
    "            w_id, c_id = int(n1[1:]), int(n2[1:])\n",
    "        else:\n",
    "            w_id, c_id = int(n2[1:]), int(n1[1:])\n",
    "        if (w_id, c_id) in selected_links:\n",
    "            edge_colors.append('blue')\n",
    "        else:\n",
    "            edge_colors.append('gray')\n",
    "\n",
    "    # Draw edges again with colored highlights\n",
    "    nx.draw_networkx_edges(G, pos, edgelist=all_edges, edge_color=edge_colors, width=2)\n",
    "\n",
    "    # Draw nodes\n",
    "    warehouse_nodes = [f'W{w}' for w in range(num_warehouses)]\n",
    "    customer_nodes = [f'C{c}' for c in range(num_customers)]\n",
    "\n",
    "    nx.draw_networkx_nodes(G, pos, nodelist=warehouse_nodes, node_color='red', node_shape='s', node_size=600)\n",
    "    nx.draw_networkx_nodes(G, pos, nodelist=customer_nodes, node_color='green', node_shape='o', node_size=600)\n",
    "\n",
    "    # Draw labels\n",
    "    nx.draw_networkx_labels(G, pos, font_color='white')\n",
    "\n",
    "    # Edge labels for distances\n",
    "    edge_labels = {(u, v): f\"{d['distance']}\" for (u, v, d) in G.edges(data=True)}\n",
    "    nx.draw_networkx_edge_labels(G, pos, edge_labels=edge_labels, font_color='black', font_size=8)\n",
    "\n",
    "    plt.title('Warehouse-Customer Network (Scaled Distances)')\n",
    "    plt.axis('off')\n",
    "    plt.show()\n",
    "\n",
    "visualize_with_scaled_distances(distances, selected_links)"
   ]
  }
 ],
 "metadata": {
  "kernelspec": {
   "display_name": "supply_chain_env",
   "language": "python",
   "name": "python3"
  },
  "language_info": {
   "codemirror_mode": {
    "name": "ipython",
    "version": 3
   },
   "file_extension": ".py",
   "mimetype": "text/x-python",
   "name": "python",
   "nbconvert_exporter": "python",
   "pygments_lexer": "ipython3",
   "version": "3.11.7"
  }
 },
 "nbformat": 4,
 "nbformat_minor": 2
}
