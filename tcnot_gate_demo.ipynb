{
 "cells": [
  {
   "cell_type": "code",
   "execution_count": 2,
   "metadata": {},
   "outputs": [],
   "source": [
    "from qutip import *\n",
    "from qutip_qip.operations import *\n",
    "from qutip_qip.circuit import QubitCircuit\n",
    "import numpy as np\n",
    "\n",
    "# Create a circuit with 2 qubits\n",
    "qc = QubitCircuit(2)\n",
    "\n",
    "# Apply a CNOT gate\n",
    "qc.add_gate(\"cnot\", targets=[0, 1]) # qubit 0 is the control, qubit 1 is the target\n",
    "\n",
    "# Apply an RX gate to qubit 0 with a rotation angle of pi/2\n",
    "qc.add_gate(\"rx\", targets=[0], arg_value=np.pi/2)\n",
    "\n",
    "# Apply a custom gate\n",
    "qc.add_gate(\"my_custom_gate\", targets=[1], arg_value=0.5)"
   ]
  }
 ],
 "metadata": {
  "kernelspec": {
   "display_name": "supply_chain_env",
   "language": "python",
   "name": "python3"
  },
  "language_info": {
   "codemirror_mode": {
    "name": "ipython",
    "version": 3
   },
   "file_extension": ".py",
   "mimetype": "text/x-python",
   "name": "python",
   "nbconvert_exporter": "python",
   "pygments_lexer": "ipython3",
   "version": "3.11.7"
  }
 },
 "nbformat": 4,
 "nbformat_minor": 2
}
